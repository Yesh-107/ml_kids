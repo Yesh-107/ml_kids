{
 "cells": [
  {
   "cell_type": "markdown",
   "metadata": {},
   "source": [
    "# Strings\n"
   ]
  },
  {
   "cell_type": "markdown",
   "metadata": {},
   "source": [
    "23, is a natural number \n",
    "23.3 is a decimal number\n",
    "-23 is an integer.\n",
    "\n",
    "Irrespective of the group they belong to they are stored in a data type(a bag) called *int*. \n",
    "- *int* is a bag where you can keep store just numbers. \n",
    "\n"
   ]
  },
  {
   "cell_type": "code",
   "execution_count": 1,
   "metadata": {},
   "outputs": [],
   "source": [
    "number = 2"
   ]
  },
  {
   "cell_type": "code",
   "execution_count": 11,
   "metadata": {},
   "outputs": [
    {
     "name": "stdout",
     "output_type": "stream",
     "text": [
      "2 is stored in  <class 'int'>\n"
     ]
    }
   ],
   "source": [
    "print(number ,'is stored in ',type(number))"
   ]
  },
  {
   "cell_type": "markdown",
   "metadata": {},
   "source": [
    "We all have names and every name is made up of letters(in computers we call them as characters).\n",
    "\n",
    "We can't use *int* as it is a bag only for numbers.\n",
    "\n",
    "So we have another data type for characters, words and sentences called **string**\n",
    "\n",
    "**_str_** is a bag to store all characters, words and sentences.\n",
    "\n",
    "Whenever you hear the word string it implies a **sequence of characters.**\n"
   ]
  },
  {
   "cell_type": "code",
   "execution_count": 8,
   "metadata": {
    "collapsed": true
   },
   "outputs": [
    {
     "name": "stdout",
     "output_type": "stream",
     "text": [
      "Jake  is stored in  <class 'str'>\n"
     ]
    }
   ],
   "source": [
    "name = 'Jake'\n",
    "print(name,' is stored in ',type(name))"
   ]
  },
  {
   "cell_type": "code",
   "execution_count": 13,
   "metadata": {},
   "outputs": [],
   "source": [
    "string = '2'"
   ]
  },
  {
   "cell_type": "code",
   "execution_count": 14,
   "metadata": {},
   "outputs": [
    {
     "name": "stdout",
     "output_type": "stream",
     "text": [
      "2  is stored in  <class 'str'>\n"
     ]
    }
   ],
   "source": [
    "print(string,' is stored in ',type(string))"
   ]
  },
  {
   "cell_type": "markdown",
   "metadata": {},
   "source": [
    "**Why is 2 stored in *str* bag?**<br>\n",
    "This is because 2 is within quotes, any number within quotes will be considered as character."
   ]
  },
  {
   "cell_type": "markdown",
   "metadata": {},
   "source": [
    "**NOTE 1** : \n",
    "We tell python something is a text by enclosing it in quotes"
   ]
  },
  {
   "cell_type": "markdown",
   "metadata": {},
   "source": [
    "### 1. Length of Strings"
   ]
  },
  {
   "cell_type": "markdown",
   "metadata": {},
   "source": [
    "<font color = red >**1.1) How to count the number of letters in a word ?** </font> <br>\n",
    "<font color = red >a) Counting the letters in your name</font>"
   ]
  },
  {
   "cell_type": "code",
   "execution_count": 2,
   "metadata": {},
   "outputs": [
    {
     "name": "stdout",
     "output_type": "stream",
     "text": [
      "Enter your name :Jake\n",
      "Jake has 4 letters\n"
     ]
    }
   ],
   "source": [
    "# Assuming input is covered in previous modules\n",
    "\n",
    "\n",
    "name = input('Enter your name : ')\n",
    "name_length = len(name)\n",
    "print(name, 'has',name_length,'letters')"
   ]
  },
  {
   "cell_type": "markdown",
   "metadata": {},
   "source": [
    "<font color = blue>**len(string_name)**</font> is a function you use to find the number of characters in a string  "
   ]
  },
  {
   "cell_type": "markdown",
   "metadata": {},
   "source": [
    "<font color = red > b) Write a program to count the number of letters in your School Name. Count it yourself and check if the count matches with the program's count </font>"
   ]
  },
  {
   "cell_type": "code",
   "execution_count": 3,
   "metadata": {},
   "outputs": [],
   "source": [
    "## Execute your code here\n",
    "\n",
    "#The length of a string is the number of characters it contains, including spaces and punctuation will be explaines over here."
   ]
  },
  {
   "cell_type": "markdown",
   "metadata": {},
   "source": [
    "### 2. Indexing"
   ]
  },
  {
   "cell_type": "markdown",
   "metadata": {},
   "source": [
    "Each letter in a string will be indexed to a number starting from zero. Index of a character in a string is nothing but it's position.\n"
   ]
  },
  {
   "cell_type": "markdown",
   "metadata": {},
   "source": [
    "![](index.png)"
   ]
  },
  {
   "cell_type": "markdown",
   "metadata": {},
   "source": [
    "**Remember indexing starts from 0** <br>\n",
    "If you want to print the character at index 1, use <font color = green > [ ] </font> "
   ]
  },
  {
   "cell_type": "code",
   "execution_count": 6,
   "metadata": {},
   "outputs": [
    {
     "name": "stdout",
     "output_type": "stream",
     "text": [
      "e\n"
     ]
    }
   ],
   "source": [
    "s = 'Hello'\n",
    "print(s[1])"
   ]
  },
  {
   "cell_type": "markdown",
   "metadata": {},
   "source": [
    "<font color = red > 2.1 ) Create a string and use indexing [ ] to print out atleat 3 different letters, try indexing with negative numbers too </font>"
   ]
  },
  {
   "cell_type": "code",
   "execution_count": 7,
   "metadata": {},
   "outputs": [],
   "source": [
    "#Execute your code here..\n",
    "\n"
   ]
  },
  {
   "cell_type": "markdown",
   "metadata": {},
   "source": [
    "### 3. Concatenation"
   ]
  },
  {
   "cell_type": "markdown",
   "metadata": {},
   "source": [
    "Concatenation is joining two strings using **+** operator <br>\n",
    "\n",
    "**ent + er = enter**"
   ]
  },
  {
   "cell_type": "code",
   "execution_count": 9,
   "metadata": {},
   "outputs": [
    {
     "name": "stdout",
     "output_type": "stream",
     "text": [
      "Enter your first namej\n",
      "First name : j\n",
      "Enter your last nameh\n",
      "Last name : h\n",
      "jh\n"
     ]
    }
   ],
   "source": [
    "#Execute the code\n",
    "\n",
    "f_name = input('Enter your first name')\n",
    "print('First name :',f_name)\n",
    "l_name = input('Enter your last name')\n",
    "print('Last name :',l_name)\n",
    "name = f_name + l_name \n",
    "print(name)"
   ]
  },
  {
   "cell_type": "markdown",
   "metadata": {},
   "source": [
    "<font color = red> 3.1) Write a program that takes two strings as input and concatenate them </font>"
   ]
  },
  {
   "cell_type": "code",
   "execution_count": 10,
   "metadata": {},
   "outputs": [],
   "source": [
    "#Code \n"
   ]
  },
  {
   "cell_type": "markdown",
   "metadata": {},
   "source": [
    "### 4. Slicing "
   ]
  },
  {
   "cell_type": "markdown",
   "metadata": {},
   "source": [
    "In indexing we learnt to print out a letter at a specific position, in slicing we just do a little more <br>\n",
    "How do we print first 4 letters or a substring from one specific position to another ?\n",
    "\n",
    "**string = 'Yosarrian'** <br>\n",
    "How can we print first 3 letters? <br>\n",
    "<font color = green>string[0:3] </font> <br>\n",
    "Yos"
   ]
  },
  {
   "cell_type": "markdown",
   "metadata": {},
   "source": [
    "<font color = red>4.1) Print the subtext 'rria' using slicing.</font> <br>\n",
    "Try different number combinations too "
   ]
  },
  {
   "cell_type": "code",
   "execution_count": null,
   "metadata": {},
   "outputs": [],
   "source": [
    "string = 'Yosarrian'"
   ]
  }
 ],
 "metadata": {
  "kernelspec": {
   "display_name": "Python 3",
   "language": "python",
   "name": "python3"
  },
  "language_info": {
   "codemirror_mode": {
    "name": "ipython",
    "version": 3
   },
   "file_extension": ".py",
   "mimetype": "text/x-python",
   "name": "python",
   "nbconvert_exporter": "python",
   "pygments_lexer": "ipython3",
   "version": "3.7.3"
  }
 },
 "nbformat": 4,
 "nbformat_minor": 4
}
